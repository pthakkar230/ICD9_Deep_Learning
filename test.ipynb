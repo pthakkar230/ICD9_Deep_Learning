{
 "cells": [
  {
   "cell_type": "code",
   "execution_count": 161,
   "metadata": {},
   "outputs": [],
   "source": [
    "import torch"
   ]
  },
  {
   "cell_type": "code",
   "execution_count": 162,
   "metadata": {},
   "outputs": [
    {
     "name": "stdout",
     "output_type": "stream",
     "text": [
      "You are using device: mps\n"
     ]
    }
   ],
   "source": [
    "# Check device availability\n",
    "device = ''\n",
    "if torch.cuda.is_available():\n",
    "    device = 'cuda'\n",
    "elif torch.backends.mps.is_available():\n",
    "    device = 'mps'\n",
    "else:\n",
    "    device = 'cpu'\n",
    "device = torch.device(device)\n",
    "print(\"You are using device: %s\" % device)"
   ]
  },
  {
   "cell_type": "code",
   "execution_count": 163,
   "metadata": {},
   "outputs": [],
   "source": [
    "DATA_FILE = 'data/sample.csv'\n",
    "LABELS_OUTPUT = 'data/labels_one_hot.pt'\n",
    "W2V_EMBEDDED_VISIT_NOTES_OUTPUT = 'data/w2v_embedded_visit_notes.pt'\n",
    "D2V_EMBEDDED_VISIT_NOTES_OUTPUT = 'data/d2v_embedded_visit_notes.pt'"
   ]
  },
  {
   "cell_type": "code",
   "execution_count": 164,
   "metadata": {},
   "outputs": [
    {
     "name": "stdout",
     "output_type": "stream",
     "text": [
      "       case_num  subject_id icd9_code  \\\n",
      "0             0           0   S8264XJ   \n",
      "1             0           1   S36501D   \n",
      "2             0           2   T484X2A   \n",
      "3             0           3   S86301D   \n",
      "4             0           4     M9948   \n",
      "...         ...         ...       ...   \n",
      "42141         9       95330   S82854H   \n",
      "42142         9       95331     A1839   \n",
      "42143         9       95332    M12842   \n",
      "42144         9       95333   M84522S   \n",
      "42145         9       95334   O6022X1   \n",
      "\n",
      "                                                    text  \n",
      "0      17-year-old male, has come to the student heal...  \n",
      "1      17 yo male with recurrent palpitations for the...  \n",
      "2      Dillon Cleveland is a 17 y.o. male patient wit...  \n",
      "3      a 17 yo m c/o palpitation started 3 mos ago; \\...  \n",
      "4      17yo male with no pmh here for evaluation of p...  \n",
      "...                                                  ...  \n",
      "42141  Ms. Madden is a 20 yo female presenting w/ the...  \n",
      "42142  A 20 YO F CAME COMPLAIN A DULL 8/10 HEADACHE T...  \n",
      "42143  Ms. Madden is a 20yo female who presents with ...  \n",
      "42144  Stephanie madden is a 20 year old woman compla...  \n",
      "42145  patient is a 20 yo F who presents with a heada...  \n",
      "\n",
      "[42146 rows x 4 columns]\n"
     ]
    }
   ],
   "source": [
    "import pandas as pd\n",
    "\n",
    "# Printing raw data from data file\n",
    "df = pd.read_csv(DATA_FILE)\n",
    "print(df)"
   ]
  },
  {
   "cell_type": "code",
   "execution_count": 166,
   "metadata": {},
   "outputs": [
    {
     "name": "stdout",
     "output_type": "stream",
     "text": [
      "torch.Size([42146, 128])\n",
      "torch.Size([42146, 100, 700])\n",
      "torch.Size([42146, 31882])\n"
     ]
    }
   ],
   "source": [
    "# Load embedded visit notes\n",
    "d2v_embedded_visit_notes = torch.load(D2V_EMBEDDED_VISIT_NOTES_OUTPUT, weights_only=True)\n",
    "w2v_embedded_visit_notes = torch.load(W2V_EMBEDDED_VISIT_NOTES_OUTPUT, weights_only=True)\n",
    "labels = torch.load(LABELS_OUTPUT, weights_only=True)\n",
    "print(d2v_embedded_visit_notes.shape)\n",
    "print(w2v_embedded_visit_notes.shape)\n",
    "print(labels.shape)\n",
    "\n",
    "D2V_VECTOR_SIZE = d2v_embedded_visit_notes.shape[1]\n",
    "W2V_VECTOR_SIZE = w2v_embedded_visit_notes.shape[1]"
   ]
  },
  {
   "cell_type": "code",
   "execution_count": 167,
   "metadata": {},
   "outputs": [],
   "source": [
    "embedded_visit_notes = [(d2v, w2v) for d2v, w2v in zip(d2v_embedded_visit_notes, w2v_embedded_visit_notes)]"
   ]
  },
  {
   "cell_type": "code",
   "execution_count": 168,
   "metadata": {},
   "outputs": [
    {
     "name": "stdout",
     "output_type": "stream",
     "text": [
      "Total Samples:  10536\n",
      "Train Samples:  7375\n",
      "Valid Samples:  1580\n",
      "Test Samples:  1581\n"
     ]
    }
   ],
   "source": [
    "import importlib\n",
    "import utils\n",
    "import numpy as np\n",
    "from torch.utils.data import DataLoader\n",
    "\n",
    "importlib.reload(utils)\n",
    "\n",
    "from utils import ICD9_Dataset\n",
    "\n",
    "\n",
    "percentage = 0.25\n",
    "batch_size = 50\n",
    "\n",
    "num_samples = int(np.floor(percentage * labels.shape[0]))\n",
    "train_samples = int(np.floor(0.7 * num_samples))\n",
    "leftovers = num_samples - train_samples\n",
    "valid_samples = train_samples + int(np.floor(0.5*leftovers))\n",
    "\n",
    "print(\"Total Samples: \", str(num_samples))\n",
    "print(\"Train Samples: \", str(train_samples))\n",
    "print(\"Valid Samples: \", str(valid_samples - train_samples))\n",
    "print(\"Test Samples: \", str(num_samples - valid_samples))\n",
    "\n",
    "\n",
    "# Initialize Dataset\n",
    "train_dataset = ICD9_Dataset(embedded_visit_notes[:train_samples],\n",
    "                              labels[:train_samples])\n",
    "valid_dataset = ICD9_Dataset(embedded_visit_notes[train_samples:valid_samples],\n",
    "                            labels[train_samples:valid_samples])\n",
    "test_dataset = ICD9_Dataset(embedded_visit_notes[valid_samples:num_samples],\n",
    "                              labels[valid_samples:num_samples])\n",
    "\n",
    "# Initialize DataLoader\n",
    "train_loader = DataLoader(train_dataset, batch_size=batch_size, shuffle=True)\n",
    "valid_loader = DataLoader(valid_dataset, batch_size=batch_size, shuffle=True)"
   ]
  },
  {
   "cell_type": "code",
   "execution_count": 169,
   "metadata": {},
   "outputs": [
    {
     "name": "stdout",
     "output_type": "stream",
     "text": [
      "torch.Size([5, 128])\n",
      "torch.Size([5, 100, 700])\n"
     ]
    }
   ],
   "source": [
    "sample_set = embedded_visit_notes[0:5]\n",
    "sample_set_d2v, sample_set_w2v = zip(*sample_set)\n",
    "sample_set_d2v = torch.stack(sample_set_d2v)  \n",
    "sample_set_w2v = torch.stack(sample_set_w2v)\n",
    "print(sample_set_d2v.shape)\n",
    "print(sample_set_w2v.shape)"
   ]
  },
  {
   "cell_type": "code",
   "execution_count": 170,
   "metadata": {},
   "outputs": [
    {
     "name": "stdout",
     "output_type": "stream",
     "text": [
      "torch.Size([5, 100, 700])\n",
      "torch.Size([5, 192])\n"
     ]
    }
   ],
   "source": [
    "# Use CNN to process sample set of vector\n",
    "\n",
    "import importlib\n",
    "import cnn \n",
    "\n",
    "importlib.reload(cnn)\n",
    "\n",
    "my_cnn = cnn.CNN(device=device).to(device)\n",
    "\n",
    "x = sample_set_w2v.to(device)\n",
    "print(x.shape)\n",
    "\n",
    "output = my_cnn.forward(x)\n",
    "print(output.shape)\n"
   ]
  },
  {
   "cell_type": "code",
   "execution_count": 171,
   "metadata": {},
   "outputs": [
    {
     "name": "stdout",
     "output_type": "stream",
     "text": [
      "torch.Size([5, 128])\n",
      "torch.Size([5, 64])\n"
     ]
    }
   ],
   "source": [
    "# Use D2V Linear Layer to process sample set of vector\n",
    "\n",
    "import importlib\n",
    "import d2v_fc \n",
    "\n",
    "importlib.reload(d2v_fc)\n",
    "\n",
    "dv2_model = d2v_fc.D2VFullyConnectedLayer(device=device).to(device)\n",
    "\n",
    "x = sample_set_d2v.to(device)\n",
    "print(x.shape)\n",
    "\n",
    "output = dv2_model.forward(x)\n",
    "print(output.shape)"
   ]
  },
  {
   "cell_type": "code",
   "execution_count": 181,
   "metadata": {},
   "outputs": [
    {
     "name": "stdout",
     "output_type": "stream",
     "text": [
      "tensor([[ 0.1474, -0.4055,  0.0278,  ...,  0.1942, -0.1873,  0.4262],\n",
      "        [-0.0808, -0.4165, -0.0487,  ...,  0.0950,  0.0559,  0.2320],\n",
      "        [-0.2836, -0.4150, -0.1208,  ...,  0.3969, -0.0469,  0.2186],\n",
      "        [ 0.2247, -0.4277,  0.0195,  ...,  0.3544,  0.0761,  0.2229],\n",
      "        [ 0.1190, -0.4391,  0.2052,  ..., -0.1306,  0.1036,  0.1403]],\n",
      "       device='mps:0', grad_fn=<LinearBackward0>)\n"
     ]
    }
   ],
   "source": [
    "# Use Combined Model to process sample set of data\n",
    "\n",
    "import importlib\n",
    "import icd9_dl_model \n",
    "\n",
    "importlib.reload(icd9_dl_model)\n",
    "model = icd9_dl_model.ICD9DeepLearningModel(device=device, num_labels=labels.shape[1]).to(device)\n",
    "\n",
    "x = (sample_set_d2v, sample_set_w2v)\n",
    "\n",
    "output = model.forward(x)\n",
    "print(output)"
   ]
  },
  {
   "cell_type": "code",
   "execution_count": 182,
   "metadata": {},
   "outputs": [],
   "source": [
    "import torch.nn as nn\n",
    "import torch\n",
    "\n",
    "criterion = nn.BCEWithLogitsLoss()\n",
    "optimizer = torch.optim.Adam(model.parameters(), lr=0.1)\n",
    "scheduler = torch.optim.lr_scheduler.ReduceLROnPlateau(optimizer)"
   ]
  },
  {
   "cell_type": "code",
   "execution_count": 183,
   "metadata": {},
   "outputs": [
    {
     "name": "stdout",
     "output_type": "stream",
     "text": [
      "-----------------------------------\n",
      "Epoch 1\n",
      "-----------------------------------\n"
     ]
    },
    {
     "name": "stderr",
     "output_type": "stream",
     "text": [
      "Training: 100%|##########| 148/148 [00:14<00:00, 10.22it/s]\n",
      "Evaluating: 100%|##########| 32/32 [00:03<00:00,  9.87it/s]\n"
     ]
    },
    {
     "name": "stdout",
     "output_type": "stream",
     "text": [
      "Training Loss: 0.7033. Validation Loss: 0.7008. \n",
      "Training Accuracy: 0.7635. Validation Accuracy: 0.7956. \n",
      "Training Precision: 0.0000. Validation Precision: 0.0000. \n",
      "Training Recall: 0.2359. Validation Recall: 0.2019. \n",
      "Training F1: 0.0001. Validation F1: 0.0001. \n",
      "-----------------------------------\n",
      "Epoch 2\n",
      "-----------------------------------\n"
     ]
    },
    {
     "name": "stderr",
     "output_type": "stream",
     "text": [
      "Training: 100%|##########| 148/148 [00:13<00:00, 11.37it/s]\n",
      "Evaluating: 100%|##########| 32/32 [00:02<00:00, 14.45it/s]\n"
     ]
    },
    {
     "name": "stdout",
     "output_type": "stream",
     "text": [
      "Training Loss: 0.7033. Validation Loss: 0.7008. \n",
      "Training Accuracy: 0.7634. Validation Accuracy: 0.7956. \n",
      "Training Precision: 0.0000. Validation Precision: 0.0000. \n",
      "Training Recall: 0.2343. Validation Recall: 0.2019. \n",
      "Training F1: 0.0001. Validation F1: 0.0001. \n",
      "-----------------------------------\n",
      "Epoch 3\n",
      "-----------------------------------\n"
     ]
    },
    {
     "name": "stderr",
     "output_type": "stream",
     "text": [
      "Training: 100%|##########| 148/148 [00:12<00:00, 11.72it/s]\n",
      "Evaluating: 100%|##########| 32/32 [00:02<00:00, 13.80it/s]\n"
     ]
    },
    {
     "name": "stdout",
     "output_type": "stream",
     "text": [
      "Training Loss: 0.7033. Validation Loss: 0.7008. \n",
      "Training Accuracy: 0.7635. Validation Accuracy: 0.7957. \n",
      "Training Precision: 0.0000. Validation Precision: 0.0000. \n",
      "Training Recall: 0.2322. Validation Recall: 0.2031. \n",
      "Training F1: 0.0001. Validation F1: 0.0001. \n",
      "-----------------------------------\n",
      "Epoch 4\n",
      "-----------------------------------\n"
     ]
    },
    {
     "name": "stderr",
     "output_type": "stream",
     "text": [
      "Training: 100%|##########| 148/148 [00:10<00:00, 13.47it/s]\n",
      "Evaluating: 100%|##########| 32/32 [00:02<00:00, 14.49it/s]\n"
     ]
    },
    {
     "name": "stdout",
     "output_type": "stream",
     "text": [
      "Training Loss: 0.7033. Validation Loss: 0.7008. \n",
      "Training Accuracy: 0.7635. Validation Accuracy: 0.7956. \n",
      "Training Precision: 0.0000. Validation Precision: 0.0000. \n",
      "Training Recall: 0.2369. Validation Recall: 0.2027. \n",
      "Training F1: 0.0001. Validation F1: 0.0001. \n",
      "-----------------------------------\n",
      "Epoch 5\n",
      "-----------------------------------\n"
     ]
    },
    {
     "name": "stderr",
     "output_type": "stream",
     "text": [
      "Training: 100%|##########| 148/148 [00:11<00:00, 13.33it/s]\n",
      "Evaluating: 100%|##########| 32/32 [00:02<00:00, 14.04it/s]\n"
     ]
    },
    {
     "name": "stdout",
     "output_type": "stream",
     "text": [
      "Training Loss: 0.7033. Validation Loss: 0.7008. \n",
      "Training Accuracy: 0.7635. Validation Accuracy: 0.7956. \n",
      "Training Precision: 0.0000. Validation Precision: 0.0000. \n",
      "Training Recall: 0.2311. Validation Recall: 0.2044. \n",
      "Training F1: 0.0001. Validation F1: 0.0001. \n",
      "-----------------------------------\n",
      "Epoch 6\n",
      "-----------------------------------\n"
     ]
    },
    {
     "name": "stderr",
     "output_type": "stream",
     "text": [
      "Training: 100%|##########| 148/148 [00:11<00:00, 13.37it/s]\n",
      "Evaluating: 100%|##########| 32/32 [00:02<00:00, 13.61it/s]\n"
     ]
    },
    {
     "name": "stdout",
     "output_type": "stream",
     "text": [
      "Training Loss: 0.7033. Validation Loss: 0.7008. \n",
      "Training Accuracy: 0.7634. Validation Accuracy: 0.7957. \n",
      "Training Precision: 0.0000. Validation Precision: 0.0000. \n",
      "Training Recall: 0.2324. Validation Recall: 0.2040. \n",
      "Training F1: 0.0001. Validation F1: 0.0001. \n",
      "-----------------------------------\n",
      "Epoch 7\n",
      "-----------------------------------\n"
     ]
    },
    {
     "name": "stderr",
     "output_type": "stream",
     "text": [
      "Training: 100%|##########| 148/148 [00:10<00:00, 13.52it/s]\n",
      "Evaluating: 100%|##########| 32/32 [00:02<00:00, 13.80it/s]\n"
     ]
    },
    {
     "name": "stdout",
     "output_type": "stream",
     "text": [
      "Training Loss: 0.7033. Validation Loss: 0.7008. \n",
      "Training Accuracy: 0.7634. Validation Accuracy: 0.7957. \n",
      "Training Precision: 0.0000. Validation Precision: 0.0000. \n",
      "Training Recall: 0.2323. Validation Recall: 0.2040. \n",
      "Training F1: 0.0001. Validation F1: 0.0001. \n",
      "-----------------------------------\n",
      "Epoch 8\n",
      "-----------------------------------\n"
     ]
    },
    {
     "name": "stderr",
     "output_type": "stream",
     "text": [
      "Training: 100%|##########| 148/148 [00:10<00:00, 13.51it/s]\n",
      "Evaluating: 100%|##########| 32/32 [00:02<00:00, 13.86it/s]\n"
     ]
    },
    {
     "name": "stdout",
     "output_type": "stream",
     "text": [
      "Training Loss: 0.7033. Validation Loss: 0.7008. \n",
      "Training Accuracy: 0.7636. Validation Accuracy: 0.7957. \n",
      "Training Precision: 0.0000. Validation Precision: 0.0000. \n",
      "Training Recall: 0.2331. Validation Recall: 0.2027. \n",
      "Training F1: 0.0001. Validation F1: 0.0001. \n",
      "-----------------------------------\n",
      "Epoch 9\n",
      "-----------------------------------\n"
     ]
    },
    {
     "name": "stderr",
     "output_type": "stream",
     "text": [
      "Training: 100%|##########| 148/148 [00:10<00:00, 13.59it/s]\n",
      "Evaluating: 100%|##########| 32/32 [00:02<00:00, 13.46it/s]\n"
     ]
    },
    {
     "name": "stdout",
     "output_type": "stream",
     "text": [
      "Training Loss: 0.7033. Validation Loss: 0.7008. \n",
      "Training Accuracy: 0.7634. Validation Accuracy: 0.7956. \n",
      "Training Precision: 0.0000. Validation Precision: 0.0000. \n",
      "Training Recall: 0.2331. Validation Recall: 0.2048. \n",
      "Training F1: 0.0001. Validation F1: 0.0001. \n",
      "-----------------------------------\n",
      "Epoch 10\n",
      "-----------------------------------\n"
     ]
    },
    {
     "name": "stderr",
     "output_type": "stream",
     "text": [
      "Training: 100%|##########| 148/148 [00:11<00:00, 13.37it/s]\n",
      "Evaluating: 100%|##########| 32/32 [00:02<00:00, 13.91it/s]\n"
     ]
    },
    {
     "name": "stdout",
     "output_type": "stream",
     "text": [
      "Training Loss: 0.7033. Validation Loss: 0.7008. \n",
      "Training Accuracy: 0.7635. Validation Accuracy: 0.7956. \n",
      "Training Precision: 0.0000. Validation Precision: 0.0000. \n",
      "Training Recall: 0.2392. Validation Recall: 0.2052. \n",
      "Training F1: 0.0001. Validation F1: 0.0001. \n"
     ]
    },
    {
     "data": {
      "image/png": "[encoded data removed]",
      "text/plain": [
       "<Figure size 640x480 with 1 Axes>"
      ]
     },
     "metadata": {},
     "output_type": "display_data"
    },
    {
     "data": {
      "image/png": "[encoded data removed]",
      "text/plain": [
       "<Figure size 640x480 with 1 Axes>"
      ]
     },
     "metadata": {},
     "output_type": "display_data"
    }
   ],
   "source": [
    "import utils\n",
    "importlib.reload(utils)\n",
    "import icd9_dl_model \n",
    "importlib.reload(icd9_dl_model)\n",
    "\n",
    "model = icd9_dl_model.ICD9DeepLearningModel(device=device, num_labels=labels.shape[1]).to(device)\n",
    "THRESHOLD = 0.2\n",
    "\n",
    "\n",
    "utils.train_and_plot(model, optimizer, scheduler, criterion, train_loader, valid_loader, device, filename='test', epochs=10, threshold=THRESHOLD)"
   ]
  }
 ],
 "metadata": {
  "kernelspec": {
   "display_name": "cs6250-finalproject",
   "language": "python",
   "name": "python3"
  },
  "language_info": {
   "codemirror_mode": {
    "name": "ipython",
    "version": 3
   },
   "file_extension": ".py",
   "mimetype": "text/x-python",
   "name": "python",
   "nbconvert_exporter": "python",
   "pygments_lexer": "ipython3",
   "version": "3.9.20"
  }
 },
 "nbformat": 4,
 "nbformat_minor": 2
}
