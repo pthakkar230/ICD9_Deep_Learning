{
 "cells": [
  {
   "cell_type": "code",
   "execution_count": 56,
   "metadata": {},
   "outputs": [],
   "source": [
    "import torch"
   ]
  },
  {
   "cell_type": "code",
   "execution_count": 57,
   "metadata": {},
   "outputs": [],
   "source": [
    "DATA_FILE = 'data/sample.csv'\n",
    "LABELS_OUTPUT = 'data/labels_one_hot.pt'\n",
    "EMBEDDED_VISIT_NOTES_OUTPUT = 'data/embedded_visit_notes.pt'"
   ]
  },
  {
   "cell_type": "code",
   "execution_count": 59,
   "metadata": {},
   "outputs": [
    {
     "name": "stdout",
     "output_type": "stream",
     "text": [
      "       case_num  subject_id icd9_code  \\\n",
      "0             0           0   S8264XJ   \n",
      "1             0           1   S36501D   \n",
      "2             0           2   T484X2A   \n",
      "3             0           3   S86301D   \n",
      "4             0           4     M9948   \n",
      "...         ...         ...       ...   \n",
      "42141         9       95330   S82854H   \n",
      "42142         9       95331     A1839   \n",
      "42143         9       95332    M12842   \n",
      "42144         9       95333   M84522S   \n",
      "42145         9       95334   O6022X1   \n",
      "\n",
      "                                                    text  \n",
      "0      17-year-old male, has come to the student heal...  \n",
      "1      17 yo male with recurrent palpitations for the...  \n",
      "2      Dillon Cleveland is a 17 y.o. male patient wit...  \n",
      "3      a 17 yo m c/o palpitation started 3 mos ago; \\...  \n",
      "4      17yo male with no pmh here for evaluation of p...  \n",
      "...                                                  ...  \n",
      "42141  Ms. Madden is a 20 yo female presenting w/ the...  \n",
      "42142  A 20 YO F CAME COMPLAIN A DULL 8/10 HEADACHE T...  \n",
      "42143  Ms. Madden is a 20yo female who presents with ...  \n",
      "42144  Stephanie madden is a 20 year old woman compla...  \n",
      "42145  patient is a 20 yo F who presents with a heada...  \n",
      "\n",
      "[42146 rows x 4 columns]\n"
     ]
    }
   ],
   "source": [
    "import pandas as pd\n",
    "\n",
    "# Printing raw data from data file\n",
    "df = pd.read_csv(DATA_FILE)\n",
    "print(df)"
   ]
  },
  {
   "cell_type": "code",
   "execution_count": 61,
   "metadata": {},
   "outputs": [
    {
     "name": "stdout",
     "output_type": "stream",
     "text": [
      "torch.Size([42146, 100, 700])\n"
     ]
    }
   ],
   "source": [
    "# Load embedded visit notes\n",
    "embedded_visit_notes = torch.load(EMBEDDED_VISIT_NOTES_OUTPUT, weights_only=True)\n",
    "print(embedded_visit_notes.shape)"
   ]
  },
  {
   "cell_type": "code",
   "execution_count": 66,
   "metadata": {},
   "outputs": [
    {
     "name": "stdout",
     "output_type": "stream",
     "text": [
      "torch.Size([2, 192])\n"
     ]
    }
   ],
   "source": [
    "# Use CNN to process sample set of vector\n",
    "\n",
    "import importlib\n",
    "import cnn \n",
    "importlib.reload(cnn)\n",
    "\n",
    "my_cnn = cnn.CNN()\n",
    "\n",
    "output = my_cnn.forward(embedded_visit_notes[0:2])\n",
    "print(output.shape)\n"
   ]
  }
 ],
 "metadata": {
  "kernelspec": {
   "display_name": "cs6250-finalproject",
   "language": "python",
   "name": "python3"
  },
  "language_info": {
   "codemirror_mode": {
    "name": "ipython",
    "version": 3
   },
   "file_extension": ".py",
   "mimetype": "text/x-python",
   "name": "python",
   "nbconvert_exporter": "python",
   "pygments_lexer": "ipython3",
   "version": "3.9.20"
  }
 },
 "nbformat": 4,
 "nbformat_minor": 2
}
