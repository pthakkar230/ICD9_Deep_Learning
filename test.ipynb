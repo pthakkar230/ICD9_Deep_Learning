{
 "cells": [
  {
   "cell_type": "code",
   "execution_count": 42,
   "metadata": {},
   "outputs": [],
   "source": [
    "%load_ext autoreload\n",
    "%autoreload 2\n",
    "import torch"
   ]
  },
  {
   "cell_type": "code",
   "execution_count": 7,
   "metadata": {},
   "outputs": [
    {
     "name": "stdout",
     "output_type": "stream",
     "text": [
      "You are using device: mps\n"
     ]
    }
   ],
   "source": [
    "# Check device availability\n",
    "device = ''\n",
    "if torch.cuda.is_available():\n",
    "    device = 'cuda'\n",
    "elif torch.backends.mps.is_available():\n",
    "    device = 'mps'\n",
    "else:\n",
    "    device = 'cpu'\n",
    "device = torch.device(device)\n",
    "print(\"You are using device: %s\" % device)"
   ]
  },
  {
   "cell_type": "code",
   "execution_count": 8,
   "metadata": {},
   "outputs": [],
   "source": [
    "SAMPLE_DATA_FILE = 'data/sample.csv'\n",
    "LABELS_OUTPUT = 'data/labels_multi_hot.pt'\n",
    "W2V_EMBEDDED_VISIT_NOTES_OUTPUT = 'data/w2v_embedded_visit_notes.pt'\n",
    "D2V_EMBEDDED_VISIT_NOTES_OUTPUT = 'data/d2v_embedded_visit_notes.pt'"
   ]
  },
  {
   "cell_type": "code",
   "execution_count": 9,
   "metadata": {},
   "outputs": [
    {
     "name": "stdout",
     "output_type": "stream",
     "text": [
      "       case_num  subject_id icd9_code  \\\n",
      "0             0           0   S8264XJ   \n",
      "1             0           1   S36501D   \n",
      "2             0           2   T484X2A   \n",
      "3             0           3   S86301D   \n",
      "4             0           4     M9948   \n",
      "...         ...         ...       ...   \n",
      "42141         9       95330   S82854H   \n",
      "42142         9       95331     A1839   \n",
      "42143         9       95332    M12842   \n",
      "42144         9       95333   M84522S   \n",
      "42145         9       95334   O6022X1   \n",
      "\n",
      "                                                    text  \n",
      "0      17-year-old male, has come to the student heal...  \n",
      "1      17 yo male with recurrent palpitations for the...  \n",
      "2      Dillon Cleveland is a 17 y.o. male patient wit...  \n",
      "3      a 17 yo m c/o palpitation started 3 mos ago; \\...  \n",
      "4      17yo male with no pmh here for evaluation of p...  \n",
      "...                                                  ...  \n",
      "42141  Ms. Madden is a 20 yo female presenting w/ the...  \n",
      "42142  A 20 YO F CAME COMPLAIN A DULL 8/10 HEADACHE T...  \n",
      "42143  Ms. Madden is a 20yo female who presents with ...  \n",
      "42144  Stephanie madden is a 20 year old woman compla...  \n",
      "42145  patient is a 20 yo F who presents with a heada...  \n",
      "\n",
      "[42146 rows x 4 columns]\n"
     ]
    }
   ],
   "source": [
    "import pandas as pd\n",
    "\n",
    "# Printing raw data from data file\n",
    "df = pd.read_csv(SAMPLE_DATA_FILE)\n",
    "print(df)"
   ]
  },
  {
   "cell_type": "code",
   "execution_count": 10,
   "metadata": {},
   "outputs": [
    {
     "name": "stdout",
     "output_type": "stream",
     "text": [
      "torch.Size([52722, 128])\n",
      "torch.Size([52722, 100, 700])\n",
      "torch.Size([52722, 6918])\n"
     ]
    }
   ],
   "source": [
    "# Load embedded visit notes\n",
    "d2v_embedded_visit_notes = torch.load(D2V_EMBEDDED_VISIT_NOTES_OUTPUT, weights_only=True)\n",
    "w2v_embedded_visit_notes = torch.load(W2V_EMBEDDED_VISIT_NOTES_OUTPUT, weights_only=True)\n",
    "labels = torch.load(LABELS_OUTPUT, weights_only=True)\n",
    "print(d2v_embedded_visit_notes.shape)\n",
    "print(w2v_embedded_visit_notes.shape)\n",
    "print(labels.shape)\n",
    "\n",
    "D2V_VECTOR_SIZE = d2v_embedded_visit_notes.shape[1]\n",
    "W2V_VECTOR_SIZE = w2v_embedded_visit_notes.shape[1]"
   ]
  },
  {
   "cell_type": "code",
   "execution_count": 11,
   "metadata": {},
   "outputs": [],
   "source": [
    "embedded_visit_notes = [(d2v, w2v) for d2v, w2v in zip(d2v_embedded_visit_notes, w2v_embedded_visit_notes)]"
   ]
  },
  {
   "cell_type": "code",
   "execution_count": 37,
   "metadata": {},
   "outputs": [
    {
     "name": "stdout",
     "output_type": "stream",
     "text": [
      "Total Samples:  26361\n",
      "Train Samples:  18452\n",
      "Valid Samples:  3954\n",
      "Test Samples:  3955\n"
     ]
    }
   ],
   "source": [
    "import numpy as np\n",
    "from torch.utils.data import DataLoader\n",
    "\n",
    "from utils import ICD9_Dataset\n",
    "\n",
    "\n",
    "percentage = 0.5\n",
    "batch_size = 50\n",
    "\n",
    "num_samples = int(np.floor(percentage * labels.shape[0]))\n",
    "train_samples = int(np.floor(0.7 * num_samples))\n",
    "leftovers = num_samples - train_samples\n",
    "valid_samples = train_samples + int(np.floor(0.5*leftovers))\n",
    "\n",
    "print(\"Total Samples: \", str(num_samples))\n",
    "print(\"Train Samples: \", str(train_samples))\n",
    "print(\"Valid Samples: \", str(valid_samples - train_samples))\n",
    "print(\"Test Samples: \", str(num_samples - valid_samples))\n",
    "\n",
    "\n",
    "# Initialize Dataset\n",
    "train_dataset = ICD9_Dataset(embedded_visit_notes[:train_samples],\n",
    "                              labels[:train_samples])\n",
    "valid_dataset = ICD9_Dataset(embedded_visit_notes[train_samples:valid_samples],\n",
    "                            labels[train_samples:valid_samples])\n",
    "test_dataset = ICD9_Dataset(embedded_visit_notes[valid_samples:num_samples],\n",
    "                              labels[valid_samples:num_samples])\n",
    "# Initialize DataLoader\n",
    "train_loader = DataLoader(train_dataset, batch_size=batch_size, shuffle=True)\n",
    "valid_loader = DataLoader(valid_dataset, batch_size=batch_size, shuffle=True)\n",
    "test_loader = DataLoader(test_dataset, batch_size=batch_size, shuffle=True)"
   ]
  },
  {
   "cell_type": "code",
   "execution_count": 13,
   "metadata": {},
   "outputs": [
    {
     "name": "stdout",
     "output_type": "stream",
     "text": [
      "torch.Size([5, 128])\n",
      "torch.Size([5, 100, 700])\n"
     ]
    }
   ],
   "source": [
    "sample_set = embedded_visit_notes[0:5]\n",
    "sample_set_d2v, sample_set_w2v = zip(*sample_set)\n",
    "sample_set_d2v = torch.stack(sample_set_d2v)  \n",
    "sample_set_w2v = torch.stack(sample_set_w2v)\n",
    "print(sample_set_d2v.shape)\n",
    "print(sample_set_w2v.shape)"
   ]
  },
  {
   "cell_type": "code",
   "execution_count": 14,
   "metadata": {},
   "outputs": [
    {
     "name": "stdout",
     "output_type": "stream",
     "text": [
      "torch.Size([5, 100, 700])\n",
      "torch.Size([5, 192])\n"
     ]
    }
   ],
   "source": [
    "# Use CNN to process sample set of vector\n",
    "\n",
    "import cnn \n",
    "\n",
    "my_cnn = cnn.CNN(device=device).to(device)\n",
    "\n",
    "x = sample_set_w2v.to(device)\n",
    "print(x.shape)\n",
    "\n",
    "output = my_cnn.forward(x)\n",
    "print(output.shape)\n"
   ]
  },
  {
   "cell_type": "code",
   "execution_count": 15,
   "metadata": {},
   "outputs": [
    {
     "name": "stdout",
     "output_type": "stream",
     "text": [
      "torch.Size([5, 128])\n",
      "torch.Size([5, 128])\n"
     ]
    }
   ],
   "source": [
    "# Use D2V Linear Layer to process sample set of vector\n",
    "\n",
    "import importlib\n",
    "import d2v_fc \n",
    "\n",
    "importlib.reload(d2v_fc)\n",
    "\n",
    "dv2_model = d2v_fc.D2VFullyConnectedLayer(device=device).to(device)\n",
    "\n",
    "x = sample_set_d2v.to(device)\n",
    "print(x.shape)\n",
    "\n",
    "output = dv2_model.forward(x)\n",
    "print(output.shape)"
   ]
  },
  {
   "cell_type": "code",
   "execution_count": 16,
   "metadata": {},
   "outputs": [
    {
     "name": "stdout",
     "output_type": "stream",
     "text": [
      "tensor([[ 0.4491, -0.3519,  0.1775,  ..., -0.6958, -0.8233, -0.6295],\n",
      "        [-0.8394, -0.1335, -1.2433,  ..., -0.8375,  0.0779, -0.6620],\n",
      "        [ 0.8663, -0.2735,  0.1661,  ..., -1.4716, -0.1585,  0.3135],\n",
      "        [-0.0736, -1.0872, -0.4770,  ..., -0.5016, -1.8017,  0.0959],\n",
      "        [ 0.6756,  0.1269, -0.1067,  ..., -1.5061,  0.2839, -0.0291]],\n",
      "       device='mps:0', grad_fn=<LinearBackward0>)\n"
     ]
    }
   ],
   "source": [
    "# Use Combined Model to process sample set of data\n",
    "\n",
    "import importlib\n",
    "import icd9_dl_model \n",
    "\n",
    "importlib.reload(icd9_dl_model)\n",
    "model = icd9_dl_model.ICD9DeepLearningModel(device=device, num_labels=labels.shape[1]).to(device)\n",
    "\n",
    "x = (sample_set_d2v, sample_set_w2v)\n",
    "\n",
    "output = model.forward(x)\n",
    "print(output)"
   ]
  },
  {
   "cell_type": "code",
   "execution_count": 46,
   "metadata": {},
   "outputs": [
    {
     "name": "stdout",
     "output_type": "stream",
     "text": [
      "The autoreload extension is already loaded. To reload it, use:\n",
      "  %reload_ext autoreload\n"
     ]
    }
   ],
   "source": [
    "%load_ext autoreload\n",
    "%autoreload 2\n",
    "from utils import train, evaluate, plot_curves\n",
    "import torch.nn as nn\n",
    "\n",
    "def train_and_plot(model, optimizer, scheduler, criterion, train_loader, valid_loader, device, filename='', epochs=10, threshold=0.2):\n",
    "    train_accuracies = []\n",
    "    valid_accuracies = []\n",
    "    train_losses = []\n",
    "    valid_losses = []\n",
    "    for epoch_idx in range(epochs):\n",
    "        print(\"-----------------------------------\")\n",
    "        print(\"Epoch %d\" % (epoch_idx+1))\n",
    "        print(\"-----------------------------------\")\n",
    "\n",
    "        train_accuracy, train_loss, train_precision, train_recall, train_f1 = train(model, train_loader, criterion, optimizer, device=device, threshold=threshold)\n",
    "\n",
    "        if scheduler:\n",
    "            scheduler.step(train_loss)\n",
    "\n",
    "        valid_accuracy, valid_loss, valid_precision, valid_recall, valid_f1 = evaluate(model, valid_loader, criterion, device=device, threshold=threshold)\n",
    "\n",
    "        train_accuracies.append(train_accuracy)\n",
    "        valid_accuracies.append(valid_accuracy)\n",
    "        train_losses.append(train_loss)\n",
    "        valid_losses.append(valid_loss)\n",
    "\n",
    "        print(\"Training Loss: %.4f. Validation Loss: %.4f. \" % (train_loss, valid_loss))\n",
    "        print(\"Training Accuracy: %.4f. Validation Accuracy: %.4f. \" % (train_accuracy, valid_accuracy))\n",
    "        print(\"Training Precision: %.4f. Validation Precision: %.4f. \" % (train_precision, valid_precision))\n",
    "        print(\"Training Recall: %.4f. Validation Recall: %.4f. \" % (train_recall, valid_recall))\n",
    "        print(\"Training F1: %.4f. Validation F1: %.4f. \" % (train_f1, valid_f1))\n",
    "\n",
    "    plot_curves(train_accuracies, valid_accuracies, \"Accuracy\", filename, output_dir='outputs/')\n",
    "    plot_curves(train_losses, valid_losses, \"Loss\", filename, output_dir='outputs/')"
   ]
  },
  {
   "cell_type": "code",
   "execution_count": null,
   "metadata": {},
   "outputs": [
    {
     "name": "stdout",
     "output_type": "stream",
     "text": [
      "-----------------------------------\n",
      "Epoch 1\n",
      "-----------------------------------\n"
     ]
    },
    {
     "name": "stderr",
     "output_type": "stream",
     "text": [
      "Training: 100%|##########| 370/370 [00:06<00:00, 57.51it/s]\n",
      "Evaluating: 100%|##########| 80/80 [00:01<00:00, 62.78it/s]\n"
     ]
    },
    {
     "name": "stdout",
     "output_type": "stream",
     "text": [
      "Training Loss: 74.3539. Validation Loss: 70.1019. \n",
      "Training Accuracy: 0.9466. Validation Accuracy: 0.9437. \n",
      "Training Precision: 0.0237. Validation Precision: 0.0249. \n",
      "Training Recall: 0.7649. Validation Recall: 0.8415. \n",
      "Training F1: 0.0460. Validation F1: 0.0483. \n",
      "-----------------------------------\n",
      "Epoch 2\n",
      "-----------------------------------\n"
     ]
    },
    {
     "name": "stderr",
     "output_type": "stream",
     "text": [
      "Training: 100%|##########| 370/370 [00:06<00:00, 58.88it/s]\n",
      "Evaluating: 100%|##########| 80/80 [00:00<00:00, 83.17it/s]\n"
     ]
    },
    {
     "name": "stdout",
     "output_type": "stream",
     "text": [
      "Training Loss: 67.8355. Validation Loss: 68.7136. \n",
      "Training Accuracy: 0.9401. Validation Accuracy: 0.9375. \n",
      "Training Precision: 0.0240. Validation Precision: 0.0234. \n",
      "Training Recall: 0.8691. Validation Recall: 0.8741. \n",
      "Training F1: 0.0468. Validation F1: 0.0456. \n",
      "-----------------------------------\n",
      "Epoch 3\n",
      "-----------------------------------\n"
     ]
    },
    {
     "name": "stderr",
     "output_type": "stream",
     "text": [
      "Training: 100%|##########| 370/370 [00:06<00:00, 61.07it/s]\n",
      "Evaluating: 100%|##########| 80/80 [00:00<00:00, 82.74it/s]\n"
     ]
    },
    {
     "name": "stdout",
     "output_type": "stream",
     "text": [
      "Training Loss: 66.0547. Validation Loss: 67.6938. \n",
      "Training Accuracy: 0.9349. Validation Accuracy: 0.9350. \n",
      "Training Precision: 0.0229. Validation Precision: 0.0227. \n",
      "Training Recall: 0.8989. Validation Recall: 0.8860. \n",
      "Training F1: 0.0447. Validation F1: 0.0442. \n",
      "-----------------------------------\n",
      "Epoch 4\n",
      "-----------------------------------\n"
     ]
    },
    {
     "name": "stderr",
     "output_type": "stream",
     "text": [
      "Training: 100%|##########| 370/370 [00:06<00:00, 60.90it/s]\n",
      "Evaluating: 100%|##########| 80/80 [00:00<00:00, 81.63it/s]\n"
     ]
    },
    {
     "name": "stdout",
     "output_type": "stream",
     "text": [
      "Training Loss: 64.9673. Validation Loss: 67.6461. \n",
      "Training Accuracy: 0.9312. Validation Accuracy: 0.9307. \n",
      "Training Precision: 0.0221. Validation Precision: 0.0216. \n",
      "Training Recall: 0.9170. Validation Recall: 0.8953. \n",
      "Training F1: 0.0431. Validation F1: 0.0421. \n",
      "-----------------------------------\n",
      "Epoch 5\n",
      "-----------------------------------\n"
     ]
    },
    {
     "name": "stderr",
     "output_type": "stream",
     "text": [
      "Training: 100%|##########| 370/370 [00:05<00:00, 61.70it/s]\n",
      "Evaluating: 100%|##########| 80/80 [00:00<00:00, 81.65it/s]\n"
     ]
    },
    {
     "name": "stdout",
     "output_type": "stream",
     "text": [
      "Training Loss: 64.2530. Validation Loss: 67.8854. \n",
      "Training Accuracy: 0.9284. Validation Accuracy: 0.9282. \n",
      "Training Precision: 0.0216. Validation Precision: 0.0210. \n",
      "Training Recall: 0.9303. Validation Recall: 0.8995. \n",
      "Training F1: 0.0421. Validation F1: 0.0411. \n",
      "-----------------------------------\n",
      "Epoch 6\n",
      "-----------------------------------\n"
     ]
    },
    {
     "name": "stderr",
     "output_type": "stream",
     "text": [
      "Training: 100%|##########| 370/370 [00:06<00:00, 59.31it/s]\n",
      "Evaluating: 100%|##########| 80/80 [00:01<00:00, 77.21it/s]\n"
     ]
    },
    {
     "name": "stdout",
     "output_type": "stream",
     "text": [
      "Training Loss: 63.7174. Validation Loss: 67.3215. \n",
      "Training Accuracy: 0.9265. Validation Accuracy: 0.9281. \n",
      "Training Precision: 0.0212. Validation Precision: 0.0209. \n",
      "Training Recall: 0.9401. Validation Recall: 0.9011. \n",
      "Training F1: 0.0416. Validation F1: 0.0408. \n",
      "-----------------------------------\n",
      "Epoch 7\n",
      "-----------------------------------\n"
     ]
    },
    {
     "name": "stderr",
     "output_type": "stream",
     "text": [
      "Training: 100%|##########| 370/370 [00:06<00:00, 59.88it/s]\n",
      "Evaluating: 100%|##########| 80/80 [00:00<00:00, 80.20it/s]\n"
     ]
    },
    {
     "name": "stdout",
     "output_type": "stream",
     "text": [
      "Training Loss: 63.3113. Validation Loss: 68.0124. \n",
      "Training Accuracy: 0.9250. Validation Accuracy: 0.9248. \n",
      "Training Precision: 0.0210. Validation Precision: 0.0202. \n",
      "Training Recall: 0.9468. Validation Recall: 0.9032. \n",
      "Training F1: 0.0411. Validation F1: 0.0394. \n",
      "-----------------------------------\n",
      "Epoch 8\n",
      "-----------------------------------\n"
     ]
    },
    {
     "name": "stderr",
     "output_type": "stream",
     "text": [
      "Training: 100%|##########| 370/370 [00:06<00:00, 60.99it/s]\n",
      "Evaluating: 100%|##########| 80/80 [00:00<00:00, 80.61it/s]\n"
     ]
    },
    {
     "name": "stdout",
     "output_type": "stream",
     "text": [
      "Training Loss: 62.8135. Validation Loss: 67.8679. \n",
      "Training Accuracy: 0.9240. Validation Accuracy: 0.9232. \n",
      "Training Precision: 0.0208. Validation Precision: 0.0197. \n",
      "Training Recall: 0.9518. Validation Recall: 0.9053. \n",
      "Training F1: 0.0407. Validation F1: 0.0386. \n",
      "-----------------------------------\n",
      "Epoch 9\n",
      "-----------------------------------\n"
     ]
    },
    {
     "name": "stderr",
     "output_type": "stream",
     "text": [
      "Training: 100%|##########| 370/370 [00:06<00:00, 60.94it/s]\n",
      "Evaluating: 100%|##########| 80/80 [00:00<00:00, 80.42it/s]\n"
     ]
    },
    {
     "name": "stdout",
     "output_type": "stream",
     "text": [
      "Training Loss: 62.4113. Validation Loss: 67.4257. \n",
      "Training Accuracy: 0.9233. Validation Accuracy: 0.9240. \n",
      "Training Precision: 0.0207. Validation Precision: 0.0199. \n",
      "Training Recall: 0.9562. Validation Recall: 0.9085. \n",
      "Training F1: 0.0406. Validation F1: 0.0390. \n",
      "-----------------------------------\n",
      "Epoch 10\n",
      "-----------------------------------\n"
     ]
    },
    {
     "name": "stderr",
     "output_type": "stream",
     "text": [
      "Training: 100%|##########| 370/370 [00:06<00:00, 61.60it/s]\n",
      "Evaluating: 100%|##########| 80/80 [00:01<00:00, 78.11it/s]\n"
     ]
    },
    {
     "name": "stdout",
     "output_type": "stream",
     "text": [
      "Training Loss: 61.9663. Validation Loss: 67.8353. \n",
      "Training Accuracy: 0.9230. Validation Accuracy: 0.9226. \n",
      "Training Precision: 0.0207. Validation Precision: 0.0196. \n",
      "Training Recall: 0.9596. Validation Recall: 0.9075. \n",
      "Training F1: 0.0405. Validation F1: 0.0383. \n"
     ]
    },
    {
     "data": {
      "image/png": "[encoded data removed]",
      "text/plain": [
       "<Figure size 640x480 with 1 Axes>"
      ]
     },
     "metadata": {},
     "output_type": "display_data"
    },
    {
     "data": {
      "image/png": "[encoded data removed]",
      "text/plain": [
       "<Figure size 640x480 with 1 Axes>"
      ]
     },
     "metadata": {},
     "output_type": "display_data"
    }
   ],
   "source": [
    "# D2V Only\n",
    "\n",
    "import icd9_dl_model\n",
    "\n",
    "learning_rate = 0.001\n",
    "model = icd9_dl_model.ICD9DeepLearningModel(device=device, num_labels=labels.shape[1], specific_model=\"d2v\").to(device)\n",
    "scheduler = None #torch.optim.lr_scheduler.ReduceLROnPlateau(optimizer)\n",
    "criterion = nn.CrossEntropyLoss()\n",
    "optimizer = torch.optim.Adam(model.parameters(), lr=learning_rate)\n",
    "epochs = 10\n",
    "file_name = \"D2V Only\"\n",
    "threshold = 0.2\n",
    "\n",
    "train_and_plot(model, optimizer, scheduler, criterion, train_loader, valid_loader, device, filename=file_name, threshold=0.2, epochs=epochs)"
   ]
  },
  {
   "cell_type": "code",
   "execution_count": 50,
   "metadata": {},
   "outputs": [
    {
     "name": "stdout",
     "output_type": "stream",
     "text": [
      "-----------------------------------\n",
      "Epoch 1\n",
      "-----------------------------------\n"
     ]
    },
    {
     "name": "stderr",
     "output_type": "stream",
     "text": [
      "Training: 100%|##########| 370/370 [00:23<00:00, 15.73it/s]\n",
      "Evaluating: 100%|##########| 80/80 [00:04<00:00, 17.09it/s]\n"
     ]
    },
    {
     "name": "stdout",
     "output_type": "stream",
     "text": [
      "Training Loss: 75.4300. Validation Loss: 71.9899. \n",
      "Training Accuracy: 0.9562. Validation Accuracy: 0.9679. \n",
      "Training Precision: 0.0288. Validation Precision: 0.0375. \n",
      "Training Recall: 0.7091. Validation Recall: 0.7259. \n",
      "Training F1: 0.0553. Validation F1: 0.0714. \n",
      "-----------------------------------\n",
      "Epoch 2\n",
      "-----------------------------------\n"
     ]
    },
    {
     "name": "stderr",
     "output_type": "stream",
     "text": [
      "Training: 100%|##########| 370/370 [00:10<00:00, 34.30it/s]\n",
      "Evaluating: 100%|##########| 80/80 [00:02<00:00, 34.11it/s]\n"
     ]
    },
    {
     "name": "stdout",
     "output_type": "stream",
     "text": [
      "Training Loss: 70.0778. Validation Loss: 69.4166. \n",
      "Training Accuracy: 0.9719. Validation Accuracy: 0.9765. \n",
      "Training Precision: 0.0430. Validation Precision: 0.0507. \n",
      "Training Recall: 0.7289. Validation Recall: 0.7242. \n",
      "Training F1: 0.0812. Validation F1: 0.0948. \n",
      "-----------------------------------\n",
      "Epoch 3\n",
      "-----------------------------------\n"
     ]
    },
    {
     "name": "stderr",
     "output_type": "stream",
     "text": [
      "Training: 100%|##########| 370/370 [00:10<00:00, 35.64it/s]\n",
      "Evaluating: 100%|##########| 80/80 [00:02<00:00, 34.00it/s]\n"
     ]
    },
    {
     "name": "stdout",
     "output_type": "stream",
     "text": [
      "Training Loss: 67.3779. Validation Loss: 67.6204. \n",
      "Training Accuracy: 0.9780. Validation Accuracy: 0.9808. \n",
      "Training Precision: 0.0543. Validation Precision: 0.0607. \n",
      "Training Recall: 0.7284. Validation Recall: 0.7133. \n",
      "Training F1: 0.1010. Validation F1: 0.1117. \n",
      "-----------------------------------\n",
      "Epoch 4\n",
      "-----------------------------------\n"
     ]
    },
    {
     "name": "stderr",
     "output_type": "stream",
     "text": [
      "Training: 100%|##########| 370/370 [00:10<00:00, 36.65it/s]\n",
      "Evaluating: 100%|##########| 80/80 [00:02<00:00, 32.29it/s]\n"
     ]
    },
    {
     "name": "stdout",
     "output_type": "stream",
     "text": [
      "Training Loss: 65.6217. Validation Loss: 67.2039. \n",
      "Training Accuracy: 0.9820. Validation Accuracy: 0.9844. \n",
      "Training Precision: 0.0647. Validation Precision: 0.0716. \n",
      "Training Recall: 0.7153. Validation Recall: 0.6830. \n",
      "Training F1: 0.1186. Validation F1: 0.1294. \n",
      "-----------------------------------\n",
      "Epoch 5\n",
      "-----------------------------------\n"
     ]
    },
    {
     "name": "stderr",
     "output_type": "stream",
     "text": [
      "Training: 100%|##########| 370/370 [00:10<00:00, 36.41it/s]\n",
      "Evaluating: 100%|##########| 80/80 [00:02<00:00, 35.38it/s]\n"
     ]
    },
    {
     "name": "stdout",
     "output_type": "stream",
     "text": [
      "Training Loss: 64.2855. Validation Loss: 66.6378. \n",
      "Training Accuracy: 0.9855. Validation Accuracy: 0.9878. \n",
      "Training Precision: 0.0775. Validation Precision: 0.0864. \n",
      "Training Recall: 0.6925. Validation Recall: 0.6485. \n",
      "Training F1: 0.1392. Validation F1: 0.1524. \n",
      "-----------------------------------\n",
      "Epoch 6\n",
      "-----------------------------------\n"
     ]
    },
    {
     "name": "stderr",
     "output_type": "stream",
     "text": [
      "Training: 100%|##########| 370/370 [00:10<00:00, 35.80it/s]\n",
      "Evaluating: 100%|##########| 80/80 [00:02<00:00, 33.80it/s]\n"
     ]
    },
    {
     "name": "stdout",
     "output_type": "stream",
     "text": [
      "Training Loss: 62.8461. Validation Loss: 66.5223. \n",
      "Training Accuracy: 0.9885. Validation Accuracy: 0.9902. \n",
      "Training Precision: 0.0930. Validation Precision: 0.1017. \n",
      "Training Recall: 0.6598. Validation Recall: 0.6066. \n",
      "Training F1: 0.1628. Validation F1: 0.1738. \n",
      "-----------------------------------\n",
      "Epoch 7\n",
      "-----------------------------------\n"
     ]
    },
    {
     "name": "stderr",
     "output_type": "stream",
     "text": [
      "Training: 100%|##########| 370/370 [00:10<00:00, 36.06it/s]\n",
      "Evaluating: 100%|##########| 80/80 [00:02<00:00, 35.55it/s]\n"
     ]
    },
    {
     "name": "stdout",
     "output_type": "stream",
     "text": [
      "Training Loss: 61.8147. Validation Loss: 66.6290. \n",
      "Training Accuracy: 0.9909. Validation Accuracy: 0.9927. \n",
      "Training Precision: 0.1116. Validation Precision: 0.1252. \n",
      "Training Recall: 0.6218. Validation Recall: 0.5484. \n",
      "Training F1: 0.1887. Validation F1: 0.2034. \n",
      "-----------------------------------\n",
      "Epoch 8\n",
      "-----------------------------------\n"
     ]
    },
    {
     "name": "stderr",
     "output_type": "stream",
     "text": [
      "Training: 100%|##########| 370/370 [00:10<00:00, 36.72it/s]\n",
      "Evaluating: 100%|##########| 80/80 [00:02<00:00, 32.54it/s]\n"
     ]
    },
    {
     "name": "stdout",
     "output_type": "stream",
     "text": [
      "Training Loss: 60.7647. Validation Loss: 67.3616. \n",
      "Training Accuracy: 0.9930. Validation Accuracy: 0.9943. \n",
      "Training Precision: 0.1349. Validation Precision: 0.1499. \n",
      "Training Recall: 0.5753. Validation Recall: 0.4935. \n",
      "Training F1: 0.2179. Validation F1: 0.2289. \n",
      "-----------------------------------\n",
      "Epoch 9\n",
      "-----------------------------------\n"
     ]
    },
    {
     "name": "stderr",
     "output_type": "stream",
     "text": [
      "Training: 100%|##########| 370/370 [00:09<00:00, 37.78it/s]\n",
      "Evaluating: 100%|##########| 80/80 [00:02<00:00, 31.64it/s]\n"
     ]
    },
    {
     "name": "stdout",
     "output_type": "stream",
     "text": [
      "Training Loss: 59.9680. Validation Loss: 66.8796. \n",
      "Training Accuracy: 0.9944. Validation Accuracy: 0.9954. \n",
      "Training Precision: 0.1608. Validation Precision: 0.1737. \n",
      "Training Recall: 0.5348. Validation Recall: 0.4484. \n",
      "Training F1: 0.2462. Validation F1: 0.2493. \n",
      "-----------------------------------\n",
      "Epoch 10\n",
      "-----------------------------------\n"
     ]
    },
    {
     "name": "stderr",
     "output_type": "stream",
     "text": [
      "Training: 100%|##########| 370/370 [00:10<00:00, 36.27it/s]\n",
      "Evaluating: 100%|##########| 80/80 [00:02<00:00, 34.04it/s]\n"
     ]
    },
    {
     "name": "stdout",
     "output_type": "stream",
     "text": [
      "Training Loss: 59.1145. Validation Loss: 67.4960. \n",
      "Training Accuracy: 0.9955. Validation Accuracy: 0.9963. \n",
      "Training Precision: 0.1867. Validation Precision: 0.2061. \n",
      "Training Recall: 0.4948. Validation Recall: 0.4036. \n",
      "Training F1: 0.2699. Validation F1: 0.2710. \n",
      "-----------------------------------\n",
      "Epoch 11\n",
      "-----------------------------------\n"
     ]
    },
    {
     "name": "stderr",
     "output_type": "stream",
     "text": [
      "Training: 100%|##########| 370/370 [00:10<00:00, 36.18it/s]\n",
      "Evaluating: 100%|##########| 80/80 [00:02<00:00, 34.10it/s]\n"
     ]
    },
    {
     "name": "stdout",
     "output_type": "stream",
     "text": [
      "Training Loss: 58.5910. Validation Loss: 66.7381. \n",
      "Training Accuracy: 0.9961. Validation Accuracy: 0.9966. \n",
      "Training Precision: 0.2104. Validation Precision: 0.2167. \n",
      "Training Recall: 0.4703. Validation Recall: 0.3909. \n",
      "Training F1: 0.2896. Validation F1: 0.2771. \n",
      "-----------------------------------\n",
      "Epoch 12\n",
      "-----------------------------------\n"
     ]
    },
    {
     "name": "stderr",
     "output_type": "stream",
     "text": [
      "Training: 100%|##########| 370/370 [00:10<00:00, 33.83it/s]\n",
      "Evaluating: 100%|##########| 80/80 [00:02<00:00, 37.60it/s]\n"
     ]
    },
    {
     "name": "stdout",
     "output_type": "stream",
     "text": [
      "Training Loss: 58.0129. Validation Loss: 67.9462. \n",
      "Training Accuracy: 0.9964. Validation Accuracy: 0.9968. \n",
      "Training Precision: 0.2226. Validation Precision: 0.2310. \n",
      "Training Recall: 0.4595. Validation Recall: 0.3607. \n",
      "Training F1: 0.2985. Validation F1: 0.2801. \n",
      "-----------------------------------\n",
      "Epoch 13\n",
      "-----------------------------------\n"
     ]
    },
    {
     "name": "stderr",
     "output_type": "stream",
     "text": [
      "Training: 100%|##########| 370/370 [00:10<00:00, 36.47it/s]\n",
      "Evaluating: 100%|##########| 80/80 [00:02<00:00, 31.90it/s]\n"
     ]
    },
    {
     "name": "stdout",
     "output_type": "stream",
     "text": [
      "Training Loss: 57.6587. Validation Loss: 67.5920. \n",
      "Training Accuracy: 0.9965. Validation Accuracy: 0.9969. \n",
      "Training Precision: 0.2333. Validation Precision: 0.2340. \n",
      "Training Recall: 0.4551. Validation Recall: 0.3647. \n",
      "Training F1: 0.3070. Validation F1: 0.2837. \n",
      "-----------------------------------\n",
      "Epoch 14\n",
      "-----------------------------------\n"
     ]
    },
    {
     "name": "stderr",
     "output_type": "stream",
     "text": [
      "Training: 100%|##########| 370/370 [00:09<00:00, 37.12it/s]\n",
      "Evaluating: 100%|##########| 80/80 [00:02<00:00, 32.24it/s]\n"
     ]
    },
    {
     "name": "stdout",
     "output_type": "stream",
     "text": [
      "Training Loss: 57.4036. Validation Loss: 67.8117. \n",
      "Training Accuracy: 0.9967. Validation Accuracy: 0.9970. \n",
      "Training Precision: 0.2420. Validation Precision: 0.2431. \n",
      "Training Recall: 0.4511. Validation Recall: 0.3502. \n",
      "Training F1: 0.3137. Validation F1: 0.2856. \n",
      "-----------------------------------\n",
      "Epoch 15\n",
      "-----------------------------------\n"
     ]
    },
    {
     "name": "stderr",
     "output_type": "stream",
     "text": [
      "Training: 100%|##########| 370/370 [00:09<00:00, 37.36it/s]\n",
      "Evaluating: 100%|##########| 80/80 [00:02<00:00, 30.44it/s]\n"
     ]
    },
    {
     "name": "stdout",
     "output_type": "stream",
     "text": [
      "Training Loss: 57.0086. Validation Loss: 68.2097. \n",
      "Training Accuracy: 0.9968. Validation Accuracy: 0.9971. \n",
      "Training Precision: 0.2499. Validation Precision: 0.2472. \n",
      "Training Recall: 0.4495. Validation Recall: 0.3493. \n",
      "Training F1: 0.3195. Validation F1: 0.2883. \n",
      "-----------------------------------\n",
      "Epoch 16\n",
      "-----------------------------------\n"
     ]
    },
    {
     "name": "stderr",
     "output_type": "stream",
     "text": [
      "Training: 100%|##########| 370/370 [00:09<00:00, 37.45it/s]\n",
      "Evaluating: 100%|##########| 80/80 [00:02<00:00, 32.14it/s]\n"
     ]
    },
    {
     "name": "stdout",
     "output_type": "stream",
     "text": [
      "Training Loss: 56.8176. Validation Loss: 68.4554. \n",
      "Training Accuracy: 0.9968. Validation Accuracy: 0.9971. \n",
      "Training Precision: 0.2553. Validation Precision: 0.2507. \n",
      "Training Recall: 0.4516. Validation Recall: 0.3500. \n",
      "Training F1: 0.3247. Validation F1: 0.2906. \n",
      "-----------------------------------\n",
      "Epoch 17\n",
      "-----------------------------------\n"
     ]
    },
    {
     "name": "stderr",
     "output_type": "stream",
     "text": [
      "Training: 100%|##########| 370/370 [00:10<00:00, 35.75it/s]\n",
      "Evaluating: 100%|##########| 80/80 [00:02<00:00, 31.21it/s]\n"
     ]
    },
    {
     "name": "stdout",
     "output_type": "stream",
     "text": [
      "Training Loss: 56.5284. Validation Loss: 68.4573. \n",
      "Training Accuracy: 0.9969. Validation Accuracy: 0.9972. \n",
      "Training Precision: 0.2606. Validation Precision: 0.2539. \n",
      "Training Recall: 0.4503. Validation Recall: 0.3406. \n",
      "Training F1: 0.3285. Validation F1: 0.2891. \n",
      "-----------------------------------\n",
      "Epoch 18\n",
      "-----------------------------------\n"
     ]
    },
    {
     "name": "stderr",
     "output_type": "stream",
     "text": [
      "Training: 100%|##########| 370/370 [00:10<00:00, 35.62it/s]\n",
      "Evaluating: 100%|##########| 80/80 [00:02<00:00, 36.08it/s]\n"
     ]
    },
    {
     "name": "stdout",
     "output_type": "stream",
     "text": [
      "Training Loss: 56.3949. Validation Loss: 68.6001. \n",
      "Training Accuracy: 0.9969. Validation Accuracy: 0.9972. \n",
      "Training Precision: 0.2637. Validation Precision: 0.2572. \n",
      "Training Recall: 0.4518. Validation Recall: 0.3391. \n",
      "Training F1: 0.3316. Validation F1: 0.2908. \n",
      "-----------------------------------\n",
      "Epoch 19\n",
      "-----------------------------------\n"
     ]
    },
    {
     "name": "stderr",
     "output_type": "stream",
     "text": [
      "Training: 100%|##########| 370/370 [00:10<00:00, 34.59it/s]\n",
      "Evaluating: 100%|##########| 80/80 [00:02<00:00, 34.89it/s]\n"
     ]
    },
    {
     "name": "stdout",
     "output_type": "stream",
     "text": [
      "Training Loss: 56.1962. Validation Loss: 68.9503. \n",
      "Training Accuracy: 0.9969. Validation Accuracy: 0.9972. \n",
      "Training Precision: 0.2659. Validation Precision: 0.2547. \n",
      "Training Recall: 0.4566. Validation Recall: 0.3411. \n",
      "Training F1: 0.3345. Validation F1: 0.2899. \n",
      "-----------------------------------\n",
      "Epoch 20\n",
      "-----------------------------------\n"
     ]
    },
    {
     "name": "stderr",
     "output_type": "stream",
     "text": [
      "Training: 100%|##########| 370/370 [00:10<00:00, 36.60it/s]\n",
      "Evaluating: 100%|##########| 80/80 [00:02<00:00, 32.63it/s]\n"
     ]
    },
    {
     "name": "stdout",
     "output_type": "stream",
     "text": [
      "Training Loss: 55.9974. Validation Loss: 68.7336. \n",
      "Training Accuracy: 0.9969. Validation Accuracy: 0.9972. \n",
      "Training Precision: 0.2669. Validation Precision: 0.2612. \n",
      "Training Recall: 0.4608. Validation Recall: 0.3400. \n",
      "Training F1: 0.3365. Validation F1: 0.2938. \n",
      "-----------------------------------\n",
      "Epoch 21\n",
      "-----------------------------------\n"
     ]
    },
    {
     "name": "stderr",
     "output_type": "stream",
     "text": [
      "Training: 100%|##########| 370/370 [00:09<00:00, 38.34it/s]\n",
      "Evaluating: 100%|##########| 80/80 [00:02<00:00, 34.04it/s]\n"
     ]
    },
    {
     "name": "stdout",
     "output_type": "stream",
     "text": [
      "Training Loss: 55.9204. Validation Loss: 69.0130. \n",
      "Training Accuracy: 0.9970. Validation Accuracy: 0.9972. \n",
      "Training Precision: 0.2709. Validation Precision: 0.2582. \n",
      "Training Recall: 0.4620. Validation Recall: 0.3400. \n",
      "Training F1: 0.3398. Validation F1: 0.2919. \n",
      "-----------------------------------\n",
      "Epoch 22\n",
      "-----------------------------------\n"
     ]
    },
    {
     "name": "stderr",
     "output_type": "stream",
     "text": [
      "Training: 100%|##########| 370/370 [00:09<00:00, 37.33it/s]\n",
      "Evaluating: 100%|##########| 80/80 [00:02<00:00, 31.96it/s]\n"
     ]
    },
    {
     "name": "stdout",
     "output_type": "stream",
     "text": [
      "Training Loss: 55.8082. Validation Loss: 69.5438. \n",
      "Training Accuracy: 0.9970. Validation Accuracy: 0.9972. \n",
      "Training Precision: 0.2717. Validation Precision: 0.2610. \n",
      "Training Recall: 0.4620. Validation Recall: 0.3456. \n",
      "Training F1: 0.3403. Validation F1: 0.2946. \n",
      "-----------------------------------\n",
      "Epoch 23\n",
      "-----------------------------------\n"
     ]
    },
    {
     "name": "stderr",
     "output_type": "stream",
     "text": [
      "Training: 100%|##########| 370/370 [00:10<00:00, 35.81it/s]\n",
      "Evaluating: 100%|##########| 80/80 [00:02<00:00, 33.95it/s]\n"
     ]
    },
    {
     "name": "stdout",
     "output_type": "stream",
     "text": [
      "Training Loss: 55.5971. Validation Loss: 69.4028. \n",
      "Training Accuracy: 0.9970. Validation Accuracy: 0.9973. \n",
      "Training Precision: 0.2714. Validation Precision: 0.2611. \n",
      "Training Recall: 0.4663. Validation Recall: 0.3354. \n",
      "Training F1: 0.3417. Validation F1: 0.2921. \n",
      "-----------------------------------\n",
      "Epoch 24\n",
      "-----------------------------------\n"
     ]
    },
    {
     "name": "stderr",
     "output_type": "stream",
     "text": [
      "Training: 100%|##########| 370/370 [00:10<00:00, 35.74it/s]\n",
      "Evaluating: 100%|##########| 80/80 [00:02<00:00, 36.15it/s]\n"
     ]
    },
    {
     "name": "stdout",
     "output_type": "stream",
     "text": [
      "Training Loss: 55.4346. Validation Loss: 70.3383. \n",
      "Training Accuracy: 0.9970. Validation Accuracy: 0.9972. \n",
      "Training Precision: 0.2737. Validation Precision: 0.2579. \n",
      "Training Recall: 0.4687. Validation Recall: 0.3416. \n",
      "Training F1: 0.3441. Validation F1: 0.2920. \n",
      "-----------------------------------\n",
      "Epoch 25\n",
      "-----------------------------------\n"
     ]
    },
    {
     "name": "stderr",
     "output_type": "stream",
     "text": [
      "Training: 100%|##########| 370/370 [00:10<00:00, 36.88it/s]\n",
      "Evaluating: 100%|##########| 80/80 [00:02<00:00, 31.76it/s]\n"
     ]
    },
    {
     "name": "stdout",
     "output_type": "stream",
     "text": [
      "Training Loss: 55.3665. Validation Loss: 70.5065. \n",
      "Training Accuracy: 0.9970. Validation Accuracy: 0.9972. \n",
      "Training Precision: 0.2762. Validation Precision: 0.2603. \n",
      "Training Recall: 0.4723. Validation Recall: 0.3428. \n",
      "Training F1: 0.3470. Validation F1: 0.2937. \n"
     ]
    },
    {
     "data": {
      "image/png": "[encoded data removed]",
      "text/plain": [
       "<Figure size 640x480 with 1 Axes>"
      ]
     },
     "metadata": {},
     "output_type": "display_data"
    },
    {
     "data": {
      "image/png": "[encoded data removed]",
      "text/plain": [
       "<Figure size 640x480 with 1 Axes>"
      ]
     },
     "metadata": {},
     "output_type": "display_data"
    }
   ],
   "source": [
    "# CNN Only\n",
    "\n",
    "import icd9_dl_model \n",
    "\n",
    "cnn_dropout = 0.25\n",
    "learning_rate = 0.001\n",
    "model = icd9_dl_model.ICD9DeepLearningModel(device=device, num_labels=labels.shape[1], specific_model=\"cnn\", cnn_dropout_rate=cnn_dropout).to(device)\n",
    "scheduler = None #torch.optim.lr_scheduler.ReduceLROnPlateau(optimizer)\n",
    "criterion = nn.CrossEntropyLoss()\n",
    "optimizer = torch.optim.Adam(model.parameters(), lr=learning_rate)\n",
    "epochs = 25\n",
    "file_name = \"CNN Only\"\n",
    "threshold = 0.3\n",
    "\n",
    "\n",
    "train_and_plot(model, optimizer, scheduler, criterion, train_loader, valid_loader, device, filename=file_name, threshold=0.2, epochs=epochs)"
   ]
  },
  {
   "cell_type": "code",
   "execution_count": 47,
   "metadata": {},
   "outputs": [
    {
     "name": "stdout",
     "output_type": "stream",
     "text": [
      "-----------------------------------\n",
      "Epoch 1\n",
      "-----------------------------------\n"
     ]
    },
    {
     "name": "stderr",
     "output_type": "stream",
     "text": [
      "Training: 100%|##########| 370/370 [00:11<00:00, 32.45it/s]\n",
      "Evaluating: 100%|##########| 80/80 [00:04<00:00, 16.98it/s]\n"
     ]
    },
    {
     "name": "stdout",
     "output_type": "stream",
     "text": [
      "Training Loss: 74.4954. Validation Loss: 70.5724. \n",
      "Training Accuracy: 0.9594. Validation Accuracy: 0.9665. \n",
      "Training Precision: 0.0305. Validation Precision: 0.0375. \n",
      "Training Recall: 0.7151. Validation Recall: 0.7580. \n",
      "Training F1: 0.0585. Validation F1: 0.0714. \n",
      "-----------------------------------\n",
      "Epoch 2\n",
      "-----------------------------------\n"
     ]
    },
    {
     "name": "stderr",
     "output_type": "stream",
     "text": [
      "Training: 100%|##########| 370/370 [00:11<00:00, 31.20it/s]\n",
      "Evaluating: 100%|##########| 80/80 [00:02<00:00, 34.21it/s]\n"
     ]
    },
    {
     "name": "stdout",
     "output_type": "stream",
     "text": [
      "Training Loss: 68.9912. Validation Loss: 68.3654. \n",
      "Training Accuracy: 0.9670. Validation Accuracy: 0.9723. \n",
      "Training Precision: 0.0382. Validation Precision: 0.0458. \n",
      "Training Recall: 0.7636. Validation Recall: 0.7666. \n",
      "Training F1: 0.0728. Validation F1: 0.0864. \n",
      "-----------------------------------\n",
      "Epoch 3\n",
      "-----------------------------------\n"
     ]
    },
    {
     "name": "stderr",
     "output_type": "stream",
     "text": [
      "Training: 100%|##########| 370/370 [00:11<00:00, 33.05it/s]\n",
      "Evaluating: 100%|##########| 80/80 [00:02<00:00, 31.36it/s]\n"
     ]
    },
    {
     "name": "stdout",
     "output_type": "stream",
     "text": [
      "Training Loss: 66.5399. Validation Loss: 66.9948. \n",
      "Training Accuracy: 0.9725. Validation Accuracy: 0.9775. \n",
      "Training Precision: 0.0461. Validation Precision: 0.0544. \n",
      "Training Recall: 0.7695. Validation Recall: 0.7490. \n",
      "Training F1: 0.0869. Validation F1: 0.1013. \n",
      "-----------------------------------\n",
      "Epoch 4\n",
      "-----------------------------------\n"
     ]
    },
    {
     "name": "stderr",
     "output_type": "stream",
     "text": [
      "Training: 100%|##########| 370/370 [00:11<00:00, 33.62it/s]\n",
      "Evaluating: 100%|##########| 80/80 [00:02<00:00, 31.05it/s]\n"
     ]
    },
    {
     "name": "stdout",
     "output_type": "stream",
     "text": [
      "Training Loss: 65.0278. Validation Loss: 66.2956. \n",
      "Training Accuracy: 0.9770. Validation Accuracy: 0.9814. \n",
      "Training Precision: 0.0544. Validation Precision: 0.0635. \n",
      "Training Recall: 0.7632. Validation Recall: 0.7253. \n",
      "Training F1: 0.1015. Validation F1: 0.1167. \n",
      "-----------------------------------\n",
      "Epoch 5\n",
      "-----------------------------------\n"
     ]
    },
    {
     "name": "stderr",
     "output_type": "stream",
     "text": [
      "Training: 100%|##########| 370/370 [00:11<00:00, 33.38it/s]\n",
      "Evaluating: 100%|##########| 80/80 [00:02<00:00, 33.97it/s]\n"
     ]
    },
    {
     "name": "stdout",
     "output_type": "stream",
     "text": [
      "Training Loss: 63.4299. Validation Loss: 66.4897. \n",
      "Training Accuracy: 0.9814. Validation Accuracy: 0.9848. \n",
      "Training Precision: 0.0650. Validation Precision: 0.0746. \n",
      "Training Recall: 0.7416. Validation Recall: 0.6936. \n",
      "Training F1: 0.1194. Validation F1: 0.1346. \n",
      "-----------------------------------\n",
      "Epoch 6\n",
      "-----------------------------------\n"
     ]
    },
    {
     "name": "stderr",
     "output_type": "stream",
     "text": [
      "Training: 100%|##########| 370/370 [00:11<00:00, 32.00it/s]\n",
      "Evaluating: 100%|##########| 80/80 [00:02<00:00, 35.50it/s]\n"
     ]
    },
    {
     "name": "stdout",
     "output_type": "stream",
     "text": [
      "Training Loss: 62.0190. Validation Loss: 66.1343. \n",
      "Training Accuracy: 0.9848. Validation Accuracy: 0.9885. \n",
      "Training Precision: 0.0770. Validation Precision: 0.0914. \n",
      "Training Recall: 0.7203. Validation Recall: 0.6474. \n",
      "Training F1: 0.1389. Validation F1: 0.1600. \n",
      "-----------------------------------\n",
      "Epoch 7\n",
      "-----------------------------------\n"
     ]
    },
    {
     "name": "stderr",
     "output_type": "stream",
     "text": [
      "Training: 100%|##########| 370/370 [00:11<00:00, 32.56it/s]\n",
      "Evaluating: 100%|##########| 80/80 [00:02<00:00, 32.10it/s]\n"
     ]
    },
    {
     "name": "stdout",
     "output_type": "stream",
     "text": [
      "Training Loss: 60.8753. Validation Loss: 66.4372. \n",
      "Training Accuracy: 0.9881. Validation Accuracy: 0.9910. \n",
      "Training Precision: 0.0932. Validation Precision: 0.1089. \n",
      "Training Recall: 0.6858. Validation Recall: 0.5988. \n",
      "Training F1: 0.1637. Validation F1: 0.1839. \n",
      "-----------------------------------\n",
      "Epoch 8\n",
      "-----------------------------------\n"
     ]
    },
    {
     "name": "stderr",
     "output_type": "stream",
     "text": [
      "Training: 100%|##########| 370/370 [00:11<00:00, 32.97it/s]\n",
      "Evaluating: 100%|##########| 80/80 [00:02<00:00, 33.96it/s]\n"
     ]
    },
    {
     "name": "stdout",
     "output_type": "stream",
     "text": [
      "Training Loss: 59.9091. Validation Loss: 66.9972. \n",
      "Training Accuracy: 0.9907. Validation Accuracy: 0.9930. \n",
      "Training Precision: 0.1124. Validation Precision: 0.1311. \n",
      "Training Recall: 0.6482. Validation Recall: 0.5480. \n",
      "Training F1: 0.1911. Validation F1: 0.2112. \n",
      "-----------------------------------\n",
      "Epoch 9\n",
      "-----------------------------------\n"
     ]
    },
    {
     "name": "stderr",
     "output_type": "stream",
     "text": [
      "Training: 100%|##########| 370/370 [00:11<00:00, 33.14it/s]\n",
      "Evaluating: 100%|##########| 80/80 [00:02<00:00, 34.80it/s]\n"
     ]
    },
    {
     "name": "stdout",
     "output_type": "stream",
     "text": [
      "Training Loss: 59.0968. Validation Loss: 66.5312. \n",
      "Training Accuracy: 0.9925. Validation Accuracy: 0.9940. \n",
      "Training Precision: 0.1327. Validation Precision: 0.1455. \n",
      "Training Recall: 0.6110. Validation Recall: 0.5138. \n",
      "Training F1: 0.2174. Validation F1: 0.2262. \n",
      "-----------------------------------\n",
      "Epoch 10\n",
      "-----------------------------------\n"
     ]
    },
    {
     "name": "stderr",
     "output_type": "stream",
     "text": [
      "Training: 100%|##########| 370/370 [00:10<00:00, 33.79it/s]\n",
      "Evaluating: 100%|##########| 80/80 [00:02<00:00, 36.09it/s]\n"
     ]
    },
    {
     "name": "stdout",
     "output_type": "stream",
     "text": [
      "Training Loss: 58.4721. Validation Loss: 66.7703. \n",
      "Training Accuracy: 0.9938. Validation Accuracy: 0.9949. \n",
      "Training Precision: 0.1515. Validation Precision: 0.1627. \n",
      "Training Recall: 0.5804. Validation Recall: 0.4773. \n",
      "Training F1: 0.2395. Validation F1: 0.2421. \n",
      "-----------------------------------\n",
      "Epoch 11\n",
      "-----------------------------------\n"
     ]
    },
    {
     "name": "stderr",
     "output_type": "stream",
     "text": [
      "Training: 100%|##########| 370/370 [00:11<00:00, 33.02it/s]\n",
      "Evaluating: 100%|##########| 80/80 [00:02<00:00, 35.39it/s]\n"
     ]
    },
    {
     "name": "stdout",
     "output_type": "stream",
     "text": [
      "Training Loss: 57.9253. Validation Loss: 66.9991. \n",
      "Training Accuracy: 0.9944. Validation Accuracy: 0.9954. \n",
      "Training Precision: 0.1653. Validation Precision: 0.1770. \n",
      "Training Recall: 0.5621. Validation Recall: 0.4583. \n",
      "Training F1: 0.2546. Validation F1: 0.2548. \n",
      "-----------------------------------\n",
      "Epoch 12\n",
      "-----------------------------------\n"
     ]
    },
    {
     "name": "stderr",
     "output_type": "stream",
     "text": [
      "Training: 100%|##########| 370/370 [00:11<00:00, 32.76it/s]\n",
      "Evaluating: 100%|##########| 80/80 [00:02<00:00, 32.24it/s]\n"
     ]
    },
    {
     "name": "stdout",
     "output_type": "stream",
     "text": [
      "Training Loss: 57.6253. Validation Loss: 67.7485. \n",
      "Training Accuracy: 0.9949. Validation Accuracy: 0.9957. \n",
      "Training Precision: 0.1774. Validation Precision: 0.1830. \n",
      "Training Recall: 0.5515. Validation Recall: 0.4427. \n",
      "Training F1: 0.2673. Validation F1: 0.2580. \n",
      "-----------------------------------\n",
      "Epoch 13\n",
      "-----------------------------------\n"
     ]
    },
    {
     "name": "stderr",
     "output_type": "stream",
     "text": [
      "Training: 100%|##########| 370/370 [00:10<00:00, 34.12it/s]\n",
      "Evaluating: 100%|##########| 80/80 [00:02<00:00, 35.32it/s]\n"
     ]
    },
    {
     "name": "stdout",
     "output_type": "stream",
     "text": [
      "Training Loss: 57.2614. Validation Loss: 67.8529. \n",
      "Training Accuracy: 0.9952. Validation Accuracy: 0.9959. \n",
      "Training Precision: 0.1860. Validation Precision: 0.1898. \n",
      "Training Recall: 0.5429. Validation Recall: 0.4327. \n",
      "Training F1: 0.2761. Validation F1: 0.2629. \n",
      "-----------------------------------\n",
      "Epoch 14\n",
      "-----------------------------------\n"
     ]
    },
    {
     "name": "stderr",
     "output_type": "stream",
     "text": [
      "Training: 100%|##########| 370/370 [00:11<00:00, 33.00it/s]\n",
      "Evaluating: 100%|##########| 80/80 [00:02<00:00, 33.54it/s]\n"
     ]
    },
    {
     "name": "stdout",
     "output_type": "stream",
     "text": [
      "Training Loss: 56.8647. Validation Loss: 67.4870. \n",
      "Training Accuracy: 0.9954. Validation Accuracy: 0.9961. \n",
      "Training Precision: 0.1929. Validation Precision: 0.1970. \n",
      "Training Recall: 0.5409. Validation Recall: 0.4237. \n",
      "Training F1: 0.2834. Validation F1: 0.2677. \n",
      "-----------------------------------\n",
      "Epoch 15\n",
      "-----------------------------------\n"
     ]
    },
    {
     "name": "stderr",
     "output_type": "stream",
     "text": [
      "Training: 100%|##########| 370/370 [00:11<00:00, 33.19it/s]\n",
      "Evaluating: 100%|##########| 80/80 [00:02<00:00, 33.62it/s]\n"
     ]
    },
    {
     "name": "stdout",
     "output_type": "stream",
     "text": [
      "Training Loss: 56.6323. Validation Loss: 67.8809. \n",
      "Training Accuracy: 0.9955. Validation Accuracy: 0.9962. \n",
      "Training Precision: 0.1988. Validation Precision: 0.2034. \n",
      "Training Recall: 0.5381. Validation Recall: 0.4221. \n",
      "Training F1: 0.2892. Validation F1: 0.2734. \n",
      "-----------------------------------\n",
      "Epoch 16\n",
      "-----------------------------------\n"
     ]
    },
    {
     "name": "stderr",
     "output_type": "stream",
     "text": [
      "Training: 100%|##########| 370/370 [00:12<00:00, 30.40it/s]\n",
      "Evaluating: 100%|##########| 80/80 [00:02<00:00, 36.89it/s]\n"
     ]
    },
    {
     "name": "stdout",
     "output_type": "stream",
     "text": [
      "Training Loss: 56.3183. Validation Loss: 69.0425. \n",
      "Training Accuracy: 0.9956. Validation Accuracy: 0.9962. \n",
      "Training Precision: 0.2031. Validation Precision: 0.2019. \n",
      "Training Recall: 0.5398. Validation Recall: 0.4168. \n",
      "Training F1: 0.2940. Validation F1: 0.2707. \n",
      "-----------------------------------\n",
      "Epoch 17\n",
      "-----------------------------------\n"
     ]
    },
    {
     "name": "stderr",
     "output_type": "stream",
     "text": [
      "Training: 100%|##########| 370/370 [04:56<00:00,  1.25it/s]\n",
      "Evaluating: 100%|##########| 80/80 [00:02<00:00, 36.86it/s]\n"
     ]
    },
    {
     "name": "stdout",
     "output_type": "stream",
     "text": [
      "Training Loss: 56.2204. Validation Loss: 68.1907. \n",
      "Training Accuracy: 0.9957. Validation Accuracy: 0.9963. \n",
      "Training Precision: 0.2059. Validation Precision: 0.2078. \n",
      "Training Recall: 0.5407. Validation Recall: 0.4196. \n",
      "Training F1: 0.2969. Validation F1: 0.2768. \n",
      "-----------------------------------\n",
      "Epoch 18\n",
      "-----------------------------------\n"
     ]
    },
    {
     "name": "stderr",
     "output_type": "stream",
     "text": [
      "Training: 100%|##########| 370/370 [00:36<00:00, 10.04it/s]\n",
      "Evaluating: 100%|##########| 80/80 [00:02<00:00, 36.56it/s]\n"
     ]
    },
    {
     "name": "stdout",
     "output_type": "stream",
     "text": [
      "Training Loss: 56.0445. Validation Loss: 68.2590. \n",
      "Training Accuracy: 0.9957. Validation Accuracy: 0.9964. \n",
      "Training Precision: 0.2080. Validation Precision: 0.2106. \n",
      "Training Recall: 0.5427. Validation Recall: 0.4091. \n",
      "Training F1: 0.2997. Validation F1: 0.2766. \n",
      "-----------------------------------\n",
      "Epoch 19\n",
      "-----------------------------------\n"
     ]
    },
    {
     "name": "stderr",
     "output_type": "stream",
     "text": [
      "Training: 100%|##########| 370/370 [01:05<00:00,  5.67it/s]\n",
      "Evaluating: 100%|##########| 80/80 [00:02<00:00, 33.23it/s]\n"
     ]
    },
    {
     "name": "stdout",
     "output_type": "stream",
     "text": [
      "Training Loss: 55.7717. Validation Loss: 68.5420. \n",
      "Training Accuracy: 0.9958. Validation Accuracy: 0.9964. \n",
      "Training Precision: 0.2117. Validation Precision: 0.2119. \n",
      "Training Recall: 0.5428. Validation Recall: 0.4104. \n",
      "Training F1: 0.3034. Validation F1: 0.2785. \n",
      "-----------------------------------\n",
      "Epoch 20\n",
      "-----------------------------------\n"
     ]
    },
    {
     "name": "stderr",
     "output_type": "stream",
     "text": [
      "Training: 100%|##########| 370/370 [01:21<00:00,  4.53it/s]\n",
      "Evaluating: 100%|##########| 80/80 [00:02<00:00, 36.63it/s]\n"
     ]
    },
    {
     "name": "stdout",
     "output_type": "stream",
     "text": [
      "Training Loss: 55.6548. Validation Loss: 68.7851. \n",
      "Training Accuracy: 0.9958. Validation Accuracy: 0.9962. \n",
      "Training Precision: 0.2142. Validation Precision: 0.2062. \n",
      "Training Recall: 0.5442. Validation Recall: 0.4233. \n",
      "Training F1: 0.3064. Validation F1: 0.2761. \n",
      "-----------------------------------\n",
      "Epoch 21\n",
      "-----------------------------------\n"
     ]
    },
    {
     "name": "stderr",
     "output_type": "stream",
     "text": [
      "Training: 100%|##########| 370/370 [00:36<00:00, 10.15it/s]\n",
      "Evaluating: 100%|##########| 80/80 [00:02<00:00, 33.30it/s]\n"
     ]
    },
    {
     "name": "stdout",
     "output_type": "stream",
     "text": [
      "Training Loss: 55.6475. Validation Loss: 68.8756. \n",
      "Training Accuracy: 0.9958. Validation Accuracy: 0.9964. \n",
      "Training Precision: 0.2145. Validation Precision: 0.2145. \n",
      "Training Recall: 0.5510. Validation Recall: 0.4103. \n",
      "Training F1: 0.3071. Validation F1: 0.2795. \n",
      "-----------------------------------\n",
      "Epoch 22\n",
      "-----------------------------------\n"
     ]
    },
    {
     "name": "stderr",
     "output_type": "stream",
     "text": [
      "Training: 100%|##########| 370/370 [03:53<00:00,  1.58it/s]\n",
      "Evaluating: 100%|##########| 80/80 [00:02<00:00, 34.14it/s]\n"
     ]
    },
    {
     "name": "stdout",
     "output_type": "stream",
     "text": [
      "Training Loss: 55.4069. Validation Loss: 69.1077. \n",
      "Training Accuracy: 0.9959. Validation Accuracy: 0.9964. \n",
      "Training Precision: 0.2173. Validation Precision: 0.2119. \n",
      "Training Recall: 0.5487. Validation Recall: 0.4123. \n",
      "Training F1: 0.3102. Validation F1: 0.2786. \n",
      "-----------------------------------\n",
      "Epoch 23\n",
      "-----------------------------------\n"
     ]
    },
    {
     "name": "stderr",
     "output_type": "stream",
     "text": [
      "Training: 100%|##########| 370/370 [17:32<00:00,  2.84s/it]  \n",
      "Evaluating: 100%|##########| 80/80 [00:55<00:00,  1.43it/s]\n"
     ]
    },
    {
     "name": "stdout",
     "output_type": "stream",
     "text": [
      "Training Loss: 55.1559. Validation Loss: 69.4588. \n",
      "Training Accuracy: 0.9958. Validation Accuracy: 0.9963. \n",
      "Training Precision: 0.2164. Validation Precision: 0.2112. \n",
      "Training Recall: 0.5524. Validation Recall: 0.4134. \n",
      "Training F1: 0.3098. Validation F1: 0.2768. \n",
      "-----------------------------------\n",
      "Epoch 24\n",
      "-----------------------------------\n"
     ]
    },
    {
     "name": "stderr",
     "output_type": "stream",
     "text": [
      "Training: 100%|##########| 370/370 [01:18<00:00,  4.69it/s]\n",
      "Evaluating: 100%|##########| 80/80 [00:02<00:00, 33.03it/s]\n"
     ]
    },
    {
     "name": "stdout",
     "output_type": "stream",
     "text": [
      "Training Loss: 55.1383. Validation Loss: 69.7004. \n",
      "Training Accuracy: 0.9958. Validation Accuracy: 0.9962. \n",
      "Training Precision: 0.2154. Validation Precision: 0.2078. \n",
      "Training Recall: 0.5589. Validation Recall: 0.4198. \n",
      "Training F1: 0.3098. Validation F1: 0.2751. \n",
      "-----------------------------------\n",
      "Epoch 25\n",
      "-----------------------------------\n"
     ]
    },
    {
     "name": "stderr",
     "output_type": "stream",
     "text": [
      "Training: 100%|##########| 370/370 [17:45<00:00,  2.88s/it]  \n",
      "Evaluating: 100%|##########| 80/80 [00:02<00:00, 37.31it/s]\n"
     ]
    },
    {
     "name": "stdout",
     "output_type": "stream",
     "text": [
      "Training Loss: 54.8542. Validation Loss: 69.6736. \n",
      "Training Accuracy: 0.9958. Validation Accuracy: 0.9963. \n",
      "Training Precision: 0.2150. Validation Precision: 0.2084. \n",
      "Training Recall: 0.5628. Validation Recall: 0.4175. \n",
      "Training F1: 0.3099. Validation F1: 0.2766. \n"
     ]
    },
    {
     "data": {
      "image/png": "[encoded data removed]",
      "text/plain": [
       "<Figure size 640x480 with 1 Axes>"
      ]
     },
     "metadata": {},
     "output_type": "display_data"
    },
    {
     "data": {
      "image/png": "[encoded data removed]",
      "text/plain": [
       "<Figure size 640x480 with 1 Axes>"
      ]
     },
     "metadata": {},
     "output_type": "display_data"
    }
   ],
   "source": [
    "# Combined Deep Labeler\n",
    "\n",
    "import icd9_dl_model \n",
    "\n",
    "learning_rate = 0.001\n",
    "cnn_dropout = 0.25\n",
    "d2v_dropout = 0.75\n",
    "model = icd9_dl_model.ICD9DeepLearningModel(device=device, num_labels=labels.shape[1], d2v_dropout_rate=d2v_dropout, cnn_dropout_rate=cnn_dropout).to(device)\n",
    "scheduler = None #torch.optim.lr_scheduler.ReduceLROnPlateau(optimizer)\n",
    "criterion = nn.CrossEntropyLoss()\n",
    "optimizer = torch.optim.Adam(model.parameters(), lr=learning_rate)\n",
    "epochs = 25\n",
    "file_name = \"Deep Labeler\"\n",
    "threshold = 0.2\n",
    "\n",
    "train_and_plot(model, optimizer, scheduler, criterion, train_loader, valid_loader, device, filename=file_name, threshold=0.2, epochs=epochs)"
   ]
  },
  {
   "cell_type": "code",
   "execution_count": 49,
   "metadata": {},
   "outputs": [
    {
     "name": "stdout",
     "output_type": "stream",
     "text": [
      "threshold: 0.005 accuracy: 0.9955642566031778 precision: 0.1807947640677329 recall: 0.4567079996555574 f1: 0.25904331634054734\n",
      "threshold: 0.05 accuracy: 0.9957236824071323 precision: 0.18552032165176366 recall: 0.447989322311202 f1: 0.26238313485433984\n",
      "threshold: 0.1 accuracy: 0.9958949500177079 precision: 0.1911661274440848 recall: 0.43884009299922405 f1: 0.2663191518548273\n",
      "threshold: 0.2 accuracy: 0.9962034948680022 precision: 0.20234503778807555 recall: 0.42017566520278904 f1: 0.2731490228183971\n",
      "threshold: 0.3 accuracy: 0.9964836047628916 precision: 0.21396626849541828 recall: 0.40065013347110906 f1: 0.2789564800311763\n",
      "threshold: 0.4 accuracy: 0.9967300532259968 precision: 0.2260016561564428 recall: 0.3818913740770232 f1: 0.2839581265806571\n",
      "threshold: 0.5 accuracy: 0.9969553764908706 precision: 0.23878586820914108 recall: 0.362581534023636 f1: 0.2879416013471347\n"
     ]
    }
   ],
   "source": [
    "\n",
    "from utils import score_model\n",
    "model.eval() \n",
    "\n",
    "all_true_labels = []\n",
    "all_outputs = []\n",
    "\n",
    "with torch.no_grad(): \n",
    "    for inputs, labels in test_loader:\n",
    "        outputs = model(inputs)\n",
    "        all_outputs.extend(outputs.cpu().numpy())\n",
    "        all_true_labels.extend(labels.cpu().numpy())\n",
    "\n",
    "thresh_ls = [0.005, 0.05, 0.1, 0.2, 0.3, 0.4, 0.5]\n",
    "for i in thresh_ls:\n",
    "  print('threshold:', i,\n",
    "        *[\"{}: {}\".format(name, num) for name, num in zip(\n",
    "          [\"accuracy\", \"precision\", \"recall\",\"f1\"],\n",
    "          score_model(all_true_labels, all_outputs, threshold=i))])"
   ]
  }
 ],
 "metadata": {
  "kernelspec": {
   "display_name": "cs6250-finalproject",
   "language": "python",
   "name": "python3"
  },
  "language_info": {
   "codemirror_mode": {
    "name": "ipython",
    "version": 3
   },
   "file_extension": ".py",
   "mimetype": "text/x-python",
   "name": "python",
   "nbconvert_exporter": "python",
   "pygments_lexer": "ipython3",
   "version": "3.9.20"
  }
 },
 "nbformat": 4,
 "nbformat_minor": 2
}
